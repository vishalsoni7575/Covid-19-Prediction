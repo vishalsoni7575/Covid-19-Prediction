{
  "nbformat": 4,
  "nbformat_minor": 0,
  "metadata": {
    "colab": {
      "provenance": []
    },
    "kernelspec": {
      "name": "python3",
      "display_name": "Python 3"
    },
    "language_info": {
      "name": "python"
    }
  },
  "cells": [
    {
      "cell_type": "markdown",
      "source": [
        "#**DATA GATHERING**"
      ],
      "metadata": {
        "id": "FjQ6TU_fNFof"
      }
    },
    {
      "cell_type": "code",
      "execution_count": 1,
      "metadata": {
        "id": "GUjd9aR-YTse"
      },
      "outputs": [],
      "source": [
        "import pandas as pd\n",
        "import numpy as np\n",
        "import matplotlib.pyplot as plt\n",
        "import seaborn as sns\n",
        "import warnings\n",
        "warnings.filterwarnings('ignore')\n",
        "warnings.simplefilter('ignore')"
      ]
    },
    {
      "cell_type": "code",
      "source": [
        "df_raw = pd.read_csv(\"Corona.csv\")"
      ],
      "metadata": {
        "id": "hq_to7idYW5L"
      },
      "execution_count": 2,
      "outputs": []
    },
    {
      "cell_type": "code",
      "source": [
        "df_raw.head()"
      ],
      "metadata": {
        "colab": {
          "base_uri": "https://localhost:8080/",
          "height": 0
        },
        "id": "5ydJNbuwH_GZ",
        "outputId": "95513fc9-3617-4c9d-9fde-04552dca276c"
      },
      "execution_count": 3,
      "outputs": [
        {
          "output_type": "execute_result",
          "data": {
            "text/plain": [
              "   Ind_ID   Test_date Cough_symptoms  Fever Sore_throat Shortness_of_breath  \\\n",
              "0       1  11-03-2020           TRUE  FALSE        TRUE               FALSE   \n",
              "1       2  11-03-2020          FALSE   TRUE       FALSE               FALSE   \n",
              "2       3  11-03-2020          FALSE   TRUE       FALSE               FALSE   \n",
              "3       4  11-03-2020           TRUE  FALSE       FALSE               FALSE   \n",
              "4       5  11-03-2020           TRUE  FALSE       FALSE               FALSE   \n",
              "\n",
              "  Headache    Corona Age_60_above   Sex           Known_contact  \n",
              "0    FALSE  negative         None  None                  Abroad  \n",
              "1    FALSE  positive         None  None                  Abroad  \n",
              "2    FALSE  positive         None  None                  Abroad  \n",
              "3    FALSE  negative         None  None                  Abroad  \n",
              "4    FALSE  negative         None  None  Contact with confirmed  "
            ],
            "text/html": [
              "\n",
              "  <div id=\"df-fa7d1607-1456-4235-9730-04547567df98\">\n",
              "    <div class=\"colab-df-container\">\n",
              "      <div>\n",
              "<style scoped>\n",
              "    .dataframe tbody tr th:only-of-type {\n",
              "        vertical-align: middle;\n",
              "    }\n",
              "\n",
              "    .dataframe tbody tr th {\n",
              "        vertical-align: top;\n",
              "    }\n",
              "\n",
              "    .dataframe thead th {\n",
              "        text-align: right;\n",
              "    }\n",
              "</style>\n",
              "<table border=\"1\" class=\"dataframe\">\n",
              "  <thead>\n",
              "    <tr style=\"text-align: right;\">\n",
              "      <th></th>\n",
              "      <th>Ind_ID</th>\n",
              "      <th>Test_date</th>\n",
              "      <th>Cough_symptoms</th>\n",
              "      <th>Fever</th>\n",
              "      <th>Sore_throat</th>\n",
              "      <th>Shortness_of_breath</th>\n",
              "      <th>Headache</th>\n",
              "      <th>Corona</th>\n",
              "      <th>Age_60_above</th>\n",
              "      <th>Sex</th>\n",
              "      <th>Known_contact</th>\n",
              "    </tr>\n",
              "  </thead>\n",
              "  <tbody>\n",
              "    <tr>\n",
              "      <th>0</th>\n",
              "      <td>1</td>\n",
              "      <td>11-03-2020</td>\n",
              "      <td>TRUE</td>\n",
              "      <td>FALSE</td>\n",
              "      <td>TRUE</td>\n",
              "      <td>FALSE</td>\n",
              "      <td>FALSE</td>\n",
              "      <td>negative</td>\n",
              "      <td>None</td>\n",
              "      <td>None</td>\n",
              "      <td>Abroad</td>\n",
              "    </tr>\n",
              "    <tr>\n",
              "      <th>1</th>\n",
              "      <td>2</td>\n",
              "      <td>11-03-2020</td>\n",
              "      <td>FALSE</td>\n",
              "      <td>TRUE</td>\n",
              "      <td>FALSE</td>\n",
              "      <td>FALSE</td>\n",
              "      <td>FALSE</td>\n",
              "      <td>positive</td>\n",
              "      <td>None</td>\n",
              "      <td>None</td>\n",
              "      <td>Abroad</td>\n",
              "    </tr>\n",
              "    <tr>\n",
              "      <th>2</th>\n",
              "      <td>3</td>\n",
              "      <td>11-03-2020</td>\n",
              "      <td>FALSE</td>\n",
              "      <td>TRUE</td>\n",
              "      <td>FALSE</td>\n",
              "      <td>FALSE</td>\n",
              "      <td>FALSE</td>\n",
              "      <td>positive</td>\n",
              "      <td>None</td>\n",
              "      <td>None</td>\n",
              "      <td>Abroad</td>\n",
              "    </tr>\n",
              "    <tr>\n",
              "      <th>3</th>\n",
              "      <td>4</td>\n",
              "      <td>11-03-2020</td>\n",
              "      <td>TRUE</td>\n",
              "      <td>FALSE</td>\n",
              "      <td>FALSE</td>\n",
              "      <td>FALSE</td>\n",
              "      <td>FALSE</td>\n",
              "      <td>negative</td>\n",
              "      <td>None</td>\n",
              "      <td>None</td>\n",
              "      <td>Abroad</td>\n",
              "    </tr>\n",
              "    <tr>\n",
              "      <th>4</th>\n",
              "      <td>5</td>\n",
              "      <td>11-03-2020</td>\n",
              "      <td>TRUE</td>\n",
              "      <td>FALSE</td>\n",
              "      <td>FALSE</td>\n",
              "      <td>FALSE</td>\n",
              "      <td>FALSE</td>\n",
              "      <td>negative</td>\n",
              "      <td>None</td>\n",
              "      <td>None</td>\n",
              "      <td>Contact with confirmed</td>\n",
              "    </tr>\n",
              "  </tbody>\n",
              "</table>\n",
              "</div>\n",
              "      <button class=\"colab-df-convert\" onclick=\"convertToInteractive('df-fa7d1607-1456-4235-9730-04547567df98')\"\n",
              "              title=\"Convert this dataframe to an interactive table.\"\n",
              "              style=\"display:none;\">\n",
              "        \n",
              "  <svg xmlns=\"http://www.w3.org/2000/svg\" height=\"24px\"viewBox=\"0 0 24 24\"\n",
              "       width=\"24px\">\n",
              "    <path d=\"M0 0h24v24H0V0z\" fill=\"none\"/>\n",
              "    <path d=\"M18.56 5.44l.94 2.06.94-2.06 2.06-.94-2.06-.94-.94-2.06-.94 2.06-2.06.94zm-11 1L8.5 8.5l.94-2.06 2.06-.94-2.06-.94L8.5 2.5l-.94 2.06-2.06.94zm10 10l.94 2.06.94-2.06 2.06-.94-2.06-.94-.94-2.06-.94 2.06-2.06.94z\"/><path d=\"M17.41 7.96l-1.37-1.37c-.4-.4-.92-.59-1.43-.59-.52 0-1.04.2-1.43.59L10.3 9.45l-7.72 7.72c-.78.78-.78 2.05 0 2.83L4 21.41c.39.39.9.59 1.41.59.51 0 1.02-.2 1.41-.59l7.78-7.78 2.81-2.81c.8-.78.8-2.07 0-2.86zM5.41 20L4 18.59l7.72-7.72 1.47 1.35L5.41 20z\"/>\n",
              "  </svg>\n",
              "      </button>\n",
              "      \n",
              "  <style>\n",
              "    .colab-df-container {\n",
              "      display:flex;\n",
              "      flex-wrap:wrap;\n",
              "      gap: 12px;\n",
              "    }\n",
              "\n",
              "    .colab-df-convert {\n",
              "      background-color: #E8F0FE;\n",
              "      border: none;\n",
              "      border-radius: 50%;\n",
              "      cursor: pointer;\n",
              "      display: none;\n",
              "      fill: #1967D2;\n",
              "      height: 32px;\n",
              "      padding: 0 0 0 0;\n",
              "      width: 32px;\n",
              "    }\n",
              "\n",
              "    .colab-df-convert:hover {\n",
              "      background-color: #E2EBFA;\n",
              "      box-shadow: 0px 1px 2px rgba(60, 64, 67, 0.3), 0px 1px 3px 1px rgba(60, 64, 67, 0.15);\n",
              "      fill: #174EA6;\n",
              "    }\n",
              "\n",
              "    [theme=dark] .colab-df-convert {\n",
              "      background-color: #3B4455;\n",
              "      fill: #D2E3FC;\n",
              "    }\n",
              "\n",
              "    [theme=dark] .colab-df-convert:hover {\n",
              "      background-color: #434B5C;\n",
              "      box-shadow: 0px 1px 3px 1px rgba(0, 0, 0, 0.15);\n",
              "      filter: drop-shadow(0px 1px 2px rgba(0, 0, 0, 0.3));\n",
              "      fill: #FFFFFF;\n",
              "    }\n",
              "  </style>\n",
              "\n",
              "      <script>\n",
              "        const buttonEl =\n",
              "          document.querySelector('#df-fa7d1607-1456-4235-9730-04547567df98 button.colab-df-convert');\n",
              "        buttonEl.style.display =\n",
              "          google.colab.kernel.accessAllowed ? 'block' : 'none';\n",
              "\n",
              "        async function convertToInteractive(key) {\n",
              "          const element = document.querySelector('#df-fa7d1607-1456-4235-9730-04547567df98');\n",
              "          const dataTable =\n",
              "            await google.colab.kernel.invokeFunction('convertToInteractive',\n",
              "                                                     [key], {});\n",
              "          if (!dataTable) return;\n",
              "\n",
              "          const docLinkHtml = 'Like what you see? Visit the ' +\n",
              "            '<a target=\"_blank\" href=https://colab.research.google.com/notebooks/data_table.ipynb>data table notebook</a>'\n",
              "            + ' to learn more about interactive tables.';\n",
              "          element.innerHTML = '';\n",
              "          dataTable['output_type'] = 'display_data';\n",
              "          await google.colab.output.renderOutput(dataTable, element);\n",
              "          const docLink = document.createElement('div');\n",
              "          docLink.innerHTML = docLinkHtml;\n",
              "          element.appendChild(docLink);\n",
              "        }\n",
              "      </script>\n",
              "    </div>\n",
              "  </div>\n",
              "  "
            ]
          },
          "metadata": {},
          "execution_count": 3
        }
      ]
    },
    {
      "cell_type": "code",
      "source": [
        "df_raw.info()"
      ],
      "metadata": {
        "colab": {
          "base_uri": "https://localhost:8080/"
        },
        "id": "aaOMHdgaF7yb",
        "outputId": "1bcfd5c3-b9e7-428a-acdb-195c25f52c7c"
      },
      "execution_count": 4,
      "outputs": [
        {
          "output_type": "stream",
          "name": "stdout",
          "text": [
            "<class 'pandas.core.frame.DataFrame'>\n",
            "RangeIndex: 278848 entries, 0 to 278847\n",
            "Data columns (total 11 columns):\n",
            " #   Column               Non-Null Count   Dtype \n",
            "---  ------               --------------   ----- \n",
            " 0   Ind_ID               278848 non-null  int64 \n",
            " 1   Test_date            278848 non-null  object\n",
            " 2   Cough_symptoms       278848 non-null  object\n",
            " 3   Fever                278848 non-null  object\n",
            " 4   Sore_throat          278848 non-null  object\n",
            " 5   Shortness_of_breath  278848 non-null  object\n",
            " 6   Headache             278848 non-null  object\n",
            " 7   Corona               278848 non-null  object\n",
            " 8   Age_60_above         278848 non-null  object\n",
            " 9   Sex                  278848 non-null  object\n",
            " 10  Known_contact        278848 non-null  object\n",
            "dtypes: int64(1), object(10)\n",
            "memory usage: 23.4+ MB\n"
          ]
        }
      ]
    },
    {
      "cell_type": "code",
      "source": [
        "df_raw[\"Test_date\"] = pd.to_datetime(df_raw[\"Test_date\"], format='%d-%m-%Y')"
      ],
      "metadata": {
        "id": "aLJQoSLrGQRS"
      },
      "execution_count": 5,
      "outputs": []
    },
    {
      "cell_type": "code",
      "source": [
        "df_new_dataset = df_raw[(df_raw[\"Test_date\"])>\"15-04-2020\"]"
      ],
      "metadata": {
        "id": "rFqD1PXjF3uM"
      },
      "execution_count": 6,
      "outputs": []
    },
    {
      "cell_type": "code",
      "source": [
        "df_new_dataset.head()"
      ],
      "metadata": {
        "colab": {
          "base_uri": "https://localhost:8080/",
          "height": 0
        },
        "id": "rcgjxra5HCkS",
        "outputId": "3336d33a-7b61-4c4a-aae4-ac584e63b93c"
      },
      "execution_count": 7,
      "outputs": [
        {
          "output_type": "execute_result",
          "data": {
            "text/plain": [
              "        Ind_ID  Test_date Cough_symptoms  Fever Sore_throat  \\\n",
              "163189  163190 2020-04-16           True  False       False   \n",
              "163190  163191 2020-04-16          False  False       False   \n",
              "163191  163192 2020-04-16           True  False       False   \n",
              "163192  163193 2020-04-16          False  False       False   \n",
              "163193  163194 2020-04-16          False  False       False   \n",
              "\n",
              "       Shortness_of_breath Headache    Corona Age_60_above     Sex  \\\n",
              "163189               False    False  negative         None  female   \n",
              "163190               False    False  negative         None  female   \n",
              "163191               False    False  negative         None  female   \n",
              "163192               False    False  negative         None    male   \n",
              "163193               False    False  negative         None    male   \n",
              "\n",
              "       Known_contact  \n",
              "163189        Abroad  \n",
              "163190         Other  \n",
              "163191        Abroad  \n",
              "163192         Other  \n",
              "163193         Other  "
            ],
            "text/html": [
              "\n",
              "  <div id=\"df-85a757d2-8953-43f4-99b0-97600d391aab\">\n",
              "    <div class=\"colab-df-container\">\n",
              "      <div>\n",
              "<style scoped>\n",
              "    .dataframe tbody tr th:only-of-type {\n",
              "        vertical-align: middle;\n",
              "    }\n",
              "\n",
              "    .dataframe tbody tr th {\n",
              "        vertical-align: top;\n",
              "    }\n",
              "\n",
              "    .dataframe thead th {\n",
              "        text-align: right;\n",
              "    }\n",
              "</style>\n",
              "<table border=\"1\" class=\"dataframe\">\n",
              "  <thead>\n",
              "    <tr style=\"text-align: right;\">\n",
              "      <th></th>\n",
              "      <th>Ind_ID</th>\n",
              "      <th>Test_date</th>\n",
              "      <th>Cough_symptoms</th>\n",
              "      <th>Fever</th>\n",
              "      <th>Sore_throat</th>\n",
              "      <th>Shortness_of_breath</th>\n",
              "      <th>Headache</th>\n",
              "      <th>Corona</th>\n",
              "      <th>Age_60_above</th>\n",
              "      <th>Sex</th>\n",
              "      <th>Known_contact</th>\n",
              "    </tr>\n",
              "  </thead>\n",
              "  <tbody>\n",
              "    <tr>\n",
              "      <th>163189</th>\n",
              "      <td>163190</td>\n",
              "      <td>2020-04-16</td>\n",
              "      <td>True</td>\n",
              "      <td>False</td>\n",
              "      <td>False</td>\n",
              "      <td>False</td>\n",
              "      <td>False</td>\n",
              "      <td>negative</td>\n",
              "      <td>None</td>\n",
              "      <td>female</td>\n",
              "      <td>Abroad</td>\n",
              "    </tr>\n",
              "    <tr>\n",
              "      <th>163190</th>\n",
              "      <td>163191</td>\n",
              "      <td>2020-04-16</td>\n",
              "      <td>False</td>\n",
              "      <td>False</td>\n",
              "      <td>False</td>\n",
              "      <td>False</td>\n",
              "      <td>False</td>\n",
              "      <td>negative</td>\n",
              "      <td>None</td>\n",
              "      <td>female</td>\n",
              "      <td>Other</td>\n",
              "    </tr>\n",
              "    <tr>\n",
              "      <th>163191</th>\n",
              "      <td>163192</td>\n",
              "      <td>2020-04-16</td>\n",
              "      <td>True</td>\n",
              "      <td>False</td>\n",
              "      <td>False</td>\n",
              "      <td>False</td>\n",
              "      <td>False</td>\n",
              "      <td>negative</td>\n",
              "      <td>None</td>\n",
              "      <td>female</td>\n",
              "      <td>Abroad</td>\n",
              "    </tr>\n",
              "    <tr>\n",
              "      <th>163192</th>\n",
              "      <td>163193</td>\n",
              "      <td>2020-04-16</td>\n",
              "      <td>False</td>\n",
              "      <td>False</td>\n",
              "      <td>False</td>\n",
              "      <td>False</td>\n",
              "      <td>False</td>\n",
              "      <td>negative</td>\n",
              "      <td>None</td>\n",
              "      <td>male</td>\n",
              "      <td>Other</td>\n",
              "    </tr>\n",
              "    <tr>\n",
              "      <th>163193</th>\n",
              "      <td>163194</td>\n",
              "      <td>2020-04-16</td>\n",
              "      <td>False</td>\n",
              "      <td>False</td>\n",
              "      <td>False</td>\n",
              "      <td>False</td>\n",
              "      <td>False</td>\n",
              "      <td>negative</td>\n",
              "      <td>None</td>\n",
              "      <td>male</td>\n",
              "      <td>Other</td>\n",
              "    </tr>\n",
              "  </tbody>\n",
              "</table>\n",
              "</div>\n",
              "      <button class=\"colab-df-convert\" onclick=\"convertToInteractive('df-85a757d2-8953-43f4-99b0-97600d391aab')\"\n",
              "              title=\"Convert this dataframe to an interactive table.\"\n",
              "              style=\"display:none;\">\n",
              "        \n",
              "  <svg xmlns=\"http://www.w3.org/2000/svg\" height=\"24px\"viewBox=\"0 0 24 24\"\n",
              "       width=\"24px\">\n",
              "    <path d=\"M0 0h24v24H0V0z\" fill=\"none\"/>\n",
              "    <path d=\"M18.56 5.44l.94 2.06.94-2.06 2.06-.94-2.06-.94-.94-2.06-.94 2.06-2.06.94zm-11 1L8.5 8.5l.94-2.06 2.06-.94-2.06-.94L8.5 2.5l-.94 2.06-2.06.94zm10 10l.94 2.06.94-2.06 2.06-.94-2.06-.94-.94-2.06-.94 2.06-2.06.94z\"/><path d=\"M17.41 7.96l-1.37-1.37c-.4-.4-.92-.59-1.43-.59-.52 0-1.04.2-1.43.59L10.3 9.45l-7.72 7.72c-.78.78-.78 2.05 0 2.83L4 21.41c.39.39.9.59 1.41.59.51 0 1.02-.2 1.41-.59l7.78-7.78 2.81-2.81c.8-.78.8-2.07 0-2.86zM5.41 20L4 18.59l7.72-7.72 1.47 1.35L5.41 20z\"/>\n",
              "  </svg>\n",
              "      </button>\n",
              "      \n",
              "  <style>\n",
              "    .colab-df-container {\n",
              "      display:flex;\n",
              "      flex-wrap:wrap;\n",
              "      gap: 12px;\n",
              "    }\n",
              "\n",
              "    .colab-df-convert {\n",
              "      background-color: #E8F0FE;\n",
              "      border: none;\n",
              "      border-radius: 50%;\n",
              "      cursor: pointer;\n",
              "      display: none;\n",
              "      fill: #1967D2;\n",
              "      height: 32px;\n",
              "      padding: 0 0 0 0;\n",
              "      width: 32px;\n",
              "    }\n",
              "\n",
              "    .colab-df-convert:hover {\n",
              "      background-color: #E2EBFA;\n",
              "      box-shadow: 0px 1px 2px rgba(60, 64, 67, 0.3), 0px 1px 3px 1px rgba(60, 64, 67, 0.15);\n",
              "      fill: #174EA6;\n",
              "    }\n",
              "\n",
              "    [theme=dark] .colab-df-convert {\n",
              "      background-color: #3B4455;\n",
              "      fill: #D2E3FC;\n",
              "    }\n",
              "\n",
              "    [theme=dark] .colab-df-convert:hover {\n",
              "      background-color: #434B5C;\n",
              "      box-shadow: 0px 1px 3px 1px rgba(0, 0, 0, 0.15);\n",
              "      filter: drop-shadow(0px 1px 2px rgba(0, 0, 0, 0.3));\n",
              "      fill: #FFFFFF;\n",
              "    }\n",
              "  </style>\n",
              "\n",
              "      <script>\n",
              "        const buttonEl =\n",
              "          document.querySelector('#df-85a757d2-8953-43f4-99b0-97600d391aab button.colab-df-convert');\n",
              "        buttonEl.style.display =\n",
              "          google.colab.kernel.accessAllowed ? 'block' : 'none';\n",
              "\n",
              "        async function convertToInteractive(key) {\n",
              "          const element = document.querySelector('#df-85a757d2-8953-43f4-99b0-97600d391aab');\n",
              "          const dataTable =\n",
              "            await google.colab.kernel.invokeFunction('convertToInteractive',\n",
              "                                                     [key], {});\n",
              "          if (!dataTable) return;\n",
              "\n",
              "          const docLinkHtml = 'Like what you see? Visit the ' +\n",
              "            '<a target=\"_blank\" href=https://colab.research.google.com/notebooks/data_table.ipynb>data table notebook</a>'\n",
              "            + ' to learn more about interactive tables.';\n",
              "          element.innerHTML = '';\n",
              "          dataTable['output_type'] = 'display_data';\n",
              "          await google.colab.output.renderOutput(dataTable, element);\n",
              "          const docLink = document.createElement('div');\n",
              "          docLink.innerHTML = docLinkHtml;\n",
              "          element.appendChild(docLink);\n",
              "        }\n",
              "      </script>\n",
              "    </div>\n",
              "  </div>\n",
              "  "
            ]
          },
          "metadata": {},
          "execution_count": 7
        }
      ]
    },
    {
      "cell_type": "code",
      "source": [
        "for i in df_new_dataset.columns[2:]:\n",
        "  print(df_new_dataset[i].value_counts())"
      ],
      "metadata": {
        "colab": {
          "base_uri": "https://localhost:8080/"
        },
        "id": "2ChbIiVtRbQv",
        "outputId": "30d736f6-2350-4a79-8cfb-0bfb8dda3d90"
      },
      "execution_count": 8,
      "outputs": [
        {
          "output_type": "stream",
          "name": "stdout",
          "text": [
            "False    102542\n",
            "True      13117\n",
            "Name: Cough_symptoms, dtype: int64\n",
            "False    108968\n",
            "True       6691\n",
            "Name: Fever, dtype: int64\n",
            "False    115636\n",
            "True         23\n",
            "Name: Sore_throat, dtype: int64\n",
            "False    115641\n",
            "True         18\n",
            "Name: Shortness_of_breath, dtype: int64\n",
            "False    115633\n",
            "True         26\n",
            "Name: Headache, dtype: int64\n",
            "negative    111541\n",
            "positive      2698\n",
            "other         1420\n",
            "Name: Corona, dtype: int64\n",
            "None    115659\n",
            "Name: Age_60_above, dtype: int64\n",
            "female    58226\n",
            "male      55550\n",
            "None       1883\n",
            "Name: Sex, dtype: int64\n",
            "Other                     105570\n",
            "Abroad                      8082\n",
            "Contact with confirmed      2007\n",
            "Name: Known_contact, dtype: int64\n"
          ]
        }
      ]
    },
    {
      "cell_type": "code",
      "source": [
        "df_new_dataset[\"Corona\"] = df_new_dataset[\"Corona\"].replace(\"other\",np.nan)"
      ],
      "metadata": {
        "id": "q6dhj651Wqz8"
      },
      "execution_count": 9,
      "outputs": []
    },
    {
      "cell_type": "code",
      "source": [
        "df_new_dataset.dropna(inplace = True)"
      ],
      "metadata": {
        "id": "rnzKgLCyW3BF"
      },
      "execution_count": 10,
      "outputs": []
    },
    {
      "cell_type": "code",
      "source": [
        "df = df_raw[df_raw[\"Test_date\"]<=\"15-04-2020\"]"
      ],
      "metadata": {
        "id": "8XnblIv-YW7c"
      },
      "execution_count": 11,
      "outputs": []
    },
    {
      "cell_type": "code",
      "source": [
        "df.head()"
      ],
      "metadata": {
        "colab": {
          "base_uri": "https://localhost:8080/",
          "height": 0
        },
        "id": "VY0sgPQRJbxQ",
        "outputId": "df4090dd-c009-460d-920e-f3c874e9b1bc"
      },
      "execution_count": 12,
      "outputs": [
        {
          "output_type": "execute_result",
          "data": {
            "text/plain": [
              "   Ind_ID  Test_date Cough_symptoms  Fever Sore_throat Shortness_of_breath  \\\n",
              "0       1 2020-03-11           TRUE  FALSE        TRUE               FALSE   \n",
              "1       2 2020-03-11          FALSE   TRUE       FALSE               FALSE   \n",
              "2       3 2020-03-11          FALSE   TRUE       FALSE               FALSE   \n",
              "3       4 2020-03-11           TRUE  FALSE       FALSE               FALSE   \n",
              "4       5 2020-03-11           TRUE  FALSE       FALSE               FALSE   \n",
              "\n",
              "  Headache    Corona Age_60_above   Sex           Known_contact  \n",
              "0    FALSE  negative         None  None                  Abroad  \n",
              "1    FALSE  positive         None  None                  Abroad  \n",
              "2    FALSE  positive         None  None                  Abroad  \n",
              "3    FALSE  negative         None  None                  Abroad  \n",
              "4    FALSE  negative         None  None  Contact with confirmed  "
            ],
            "text/html": [
              "\n",
              "  <div id=\"df-406621f2-99bf-4263-8262-8831defff758\">\n",
              "    <div class=\"colab-df-container\">\n",
              "      <div>\n",
              "<style scoped>\n",
              "    .dataframe tbody tr th:only-of-type {\n",
              "        vertical-align: middle;\n",
              "    }\n",
              "\n",
              "    .dataframe tbody tr th {\n",
              "        vertical-align: top;\n",
              "    }\n",
              "\n",
              "    .dataframe thead th {\n",
              "        text-align: right;\n",
              "    }\n",
              "</style>\n",
              "<table border=\"1\" class=\"dataframe\">\n",
              "  <thead>\n",
              "    <tr style=\"text-align: right;\">\n",
              "      <th></th>\n",
              "      <th>Ind_ID</th>\n",
              "      <th>Test_date</th>\n",
              "      <th>Cough_symptoms</th>\n",
              "      <th>Fever</th>\n",
              "      <th>Sore_throat</th>\n",
              "      <th>Shortness_of_breath</th>\n",
              "      <th>Headache</th>\n",
              "      <th>Corona</th>\n",
              "      <th>Age_60_above</th>\n",
              "      <th>Sex</th>\n",
              "      <th>Known_contact</th>\n",
              "    </tr>\n",
              "  </thead>\n",
              "  <tbody>\n",
              "    <tr>\n",
              "      <th>0</th>\n",
              "      <td>1</td>\n",
              "      <td>2020-03-11</td>\n",
              "      <td>TRUE</td>\n",
              "      <td>FALSE</td>\n",
              "      <td>TRUE</td>\n",
              "      <td>FALSE</td>\n",
              "      <td>FALSE</td>\n",
              "      <td>negative</td>\n",
              "      <td>None</td>\n",
              "      <td>None</td>\n",
              "      <td>Abroad</td>\n",
              "    </tr>\n",
              "    <tr>\n",
              "      <th>1</th>\n",
              "      <td>2</td>\n",
              "      <td>2020-03-11</td>\n",
              "      <td>FALSE</td>\n",
              "      <td>TRUE</td>\n",
              "      <td>FALSE</td>\n",
              "      <td>FALSE</td>\n",
              "      <td>FALSE</td>\n",
              "      <td>positive</td>\n",
              "      <td>None</td>\n",
              "      <td>None</td>\n",
              "      <td>Abroad</td>\n",
              "    </tr>\n",
              "    <tr>\n",
              "      <th>2</th>\n",
              "      <td>3</td>\n",
              "      <td>2020-03-11</td>\n",
              "      <td>FALSE</td>\n",
              "      <td>TRUE</td>\n",
              "      <td>FALSE</td>\n",
              "      <td>FALSE</td>\n",
              "      <td>FALSE</td>\n",
              "      <td>positive</td>\n",
              "      <td>None</td>\n",
              "      <td>None</td>\n",
              "      <td>Abroad</td>\n",
              "    </tr>\n",
              "    <tr>\n",
              "      <th>3</th>\n",
              "      <td>4</td>\n",
              "      <td>2020-03-11</td>\n",
              "      <td>TRUE</td>\n",
              "      <td>FALSE</td>\n",
              "      <td>FALSE</td>\n",
              "      <td>FALSE</td>\n",
              "      <td>FALSE</td>\n",
              "      <td>negative</td>\n",
              "      <td>None</td>\n",
              "      <td>None</td>\n",
              "      <td>Abroad</td>\n",
              "    </tr>\n",
              "    <tr>\n",
              "      <th>4</th>\n",
              "      <td>5</td>\n",
              "      <td>2020-03-11</td>\n",
              "      <td>TRUE</td>\n",
              "      <td>FALSE</td>\n",
              "      <td>FALSE</td>\n",
              "      <td>FALSE</td>\n",
              "      <td>FALSE</td>\n",
              "      <td>negative</td>\n",
              "      <td>None</td>\n",
              "      <td>None</td>\n",
              "      <td>Contact with confirmed</td>\n",
              "    </tr>\n",
              "  </tbody>\n",
              "</table>\n",
              "</div>\n",
              "      <button class=\"colab-df-convert\" onclick=\"convertToInteractive('df-406621f2-99bf-4263-8262-8831defff758')\"\n",
              "              title=\"Convert this dataframe to an interactive table.\"\n",
              "              style=\"display:none;\">\n",
              "        \n",
              "  <svg xmlns=\"http://www.w3.org/2000/svg\" height=\"24px\"viewBox=\"0 0 24 24\"\n",
              "       width=\"24px\">\n",
              "    <path d=\"M0 0h24v24H0V0z\" fill=\"none\"/>\n",
              "    <path d=\"M18.56 5.44l.94 2.06.94-2.06 2.06-.94-2.06-.94-.94-2.06-.94 2.06-2.06.94zm-11 1L8.5 8.5l.94-2.06 2.06-.94-2.06-.94L8.5 2.5l-.94 2.06-2.06.94zm10 10l.94 2.06.94-2.06 2.06-.94-2.06-.94-.94-2.06-.94 2.06-2.06.94z\"/><path d=\"M17.41 7.96l-1.37-1.37c-.4-.4-.92-.59-1.43-.59-.52 0-1.04.2-1.43.59L10.3 9.45l-7.72 7.72c-.78.78-.78 2.05 0 2.83L4 21.41c.39.39.9.59 1.41.59.51 0 1.02-.2 1.41-.59l7.78-7.78 2.81-2.81c.8-.78.8-2.07 0-2.86zM5.41 20L4 18.59l7.72-7.72 1.47 1.35L5.41 20z\"/>\n",
              "  </svg>\n",
              "      </button>\n",
              "      \n",
              "  <style>\n",
              "    .colab-df-container {\n",
              "      display:flex;\n",
              "      flex-wrap:wrap;\n",
              "      gap: 12px;\n",
              "    }\n",
              "\n",
              "    .colab-df-convert {\n",
              "      background-color: #E8F0FE;\n",
              "      border: none;\n",
              "      border-radius: 50%;\n",
              "      cursor: pointer;\n",
              "      display: none;\n",
              "      fill: #1967D2;\n",
              "      height: 32px;\n",
              "      padding: 0 0 0 0;\n",
              "      width: 32px;\n",
              "    }\n",
              "\n",
              "    .colab-df-convert:hover {\n",
              "      background-color: #E2EBFA;\n",
              "      box-shadow: 0px 1px 2px rgba(60, 64, 67, 0.3), 0px 1px 3px 1px rgba(60, 64, 67, 0.15);\n",
              "      fill: #174EA6;\n",
              "    }\n",
              "\n",
              "    [theme=dark] .colab-df-convert {\n",
              "      background-color: #3B4455;\n",
              "      fill: #D2E3FC;\n",
              "    }\n",
              "\n",
              "    [theme=dark] .colab-df-convert:hover {\n",
              "      background-color: #434B5C;\n",
              "      box-shadow: 0px 1px 3px 1px rgba(0, 0, 0, 0.15);\n",
              "      filter: drop-shadow(0px 1px 2px rgba(0, 0, 0, 0.3));\n",
              "      fill: #FFFFFF;\n",
              "    }\n",
              "  </style>\n",
              "\n",
              "      <script>\n",
              "        const buttonEl =\n",
              "          document.querySelector('#df-406621f2-99bf-4263-8262-8831defff758 button.colab-df-convert');\n",
              "        buttonEl.style.display =\n",
              "          google.colab.kernel.accessAllowed ? 'block' : 'none';\n",
              "\n",
              "        async function convertToInteractive(key) {\n",
              "          const element = document.querySelector('#df-406621f2-99bf-4263-8262-8831defff758');\n",
              "          const dataTable =\n",
              "            await google.colab.kernel.invokeFunction('convertToInteractive',\n",
              "                                                     [key], {});\n",
              "          if (!dataTable) return;\n",
              "\n",
              "          const docLinkHtml = 'Like what you see? Visit the ' +\n",
              "            '<a target=\"_blank\" href=https://colab.research.google.com/notebooks/data_table.ipynb>data table notebook</a>'\n",
              "            + ' to learn more about interactive tables.';\n",
              "          element.innerHTML = '';\n",
              "          dataTable['output_type'] = 'display_data';\n",
              "          await google.colab.output.renderOutput(dataTable, element);\n",
              "          const docLink = document.createElement('div');\n",
              "          docLink.innerHTML = docLinkHtml;\n",
              "          element.appendChild(docLink);\n",
              "        }\n",
              "      </script>\n",
              "    </div>\n",
              "  </div>\n",
              "  "
            ]
          },
          "metadata": {},
          "execution_count": 12
        }
      ]
    },
    {
      "cell_type": "code",
      "source": [
        "df.shape"
      ],
      "metadata": {
        "colab": {
          "base_uri": "https://localhost:8080/"
        },
        "id": "fK8WXa1TbVb9",
        "outputId": "37c6955b-93e2-42f5-87ba-438b7d3fb32d"
      },
      "execution_count": 13,
      "outputs": [
        {
          "output_type": "execute_result",
          "data": {
            "text/plain": [
              "(163189, 11)"
            ]
          },
          "metadata": {},
          "execution_count": 13
        }
      ]
    },
    {
      "cell_type": "markdown",
      "source": [
        "#**DATA INFORMATION**"
      ],
      "metadata": {
        "id": "3J5LADiANN-G"
      }
    },
    {
      "cell_type": "code",
      "source": [
        "df.nunique()"
      ],
      "metadata": {
        "colab": {
          "base_uri": "https://localhost:8080/"
        },
        "id": "vHHb3QIcB6i2",
        "outputId": "e00e0591-5203-4618-8f99-9f42fb4170f8"
      },
      "execution_count": 14,
      "outputs": [
        {
          "output_type": "execute_result",
          "data": {
            "text/plain": [
              "Ind_ID                 163189\n",
              "Test_date                  36\n",
              "Cough_symptoms              5\n",
              "Fever                       5\n",
              "Sore_throat                 5\n",
              "Shortness_of_breath         5\n",
              "Headache                    5\n",
              "Corona                      3\n",
              "Age_60_above                3\n",
              "Sex                         3\n",
              "Known_contact               3\n",
              "dtype: int64"
            ]
          },
          "metadata": {},
          "execution_count": 14
        }
      ]
    },
    {
      "cell_type": "code",
      "source": [
        "for i in df.columns[2:]:\n",
        "  print(df[i].value_counts())"
      ],
      "metadata": {
        "colab": {
          "base_uri": "https://localhost:8080/"
        },
        "id": "u5QpofjVQSak",
        "outputId": "5ea72f73-faf5-4172-93bf-d2a160e7adda"
      },
      "execution_count": 15,
      "outputs": [
        {
          "output_type": "stream",
          "name": "stdout",
          "text": [
            "FALSE    108837\n",
            "False     24989\n",
            "TRUE      21983\n",
            "True       7128\n",
            "None        252\n",
            "Name: Cough_symptoms, dtype: int64\n",
            "FALSE    119070\n",
            "False     28806\n",
            "TRUE      11750\n",
            "True       3311\n",
            "None        252\n",
            "Name: Fever, dtype: int64\n",
            "False    96948\n",
            "FALSE    64337\n",
            "TRUE      1198\n",
            "True       705\n",
            "None         1\n",
            "Name: Sore_throat, dtype: int64\n",
            "False    97201\n",
            "FALSE    64428\n",
            "TRUE      1107\n",
            "True       452\n",
            "None         1\n",
            "Name: Shortness_of_breath, dtype: int64\n",
            "False    96693\n",
            "FALSE    64107\n",
            "TRUE      1428\n",
            "True       960\n",
            "None         1\n",
            "Name: Headache, dtype: int64\n",
            "negative    148686\n",
            "positive     12031\n",
            "other         2472\n",
            "Name: Corona, dtype: int64\n",
            "No      125703\n",
            "Yes      25825\n",
            "None     11661\n",
            "Name: Age_60_above, dtype: int64\n",
            "male      73577\n",
            "female    71932\n",
            "None      17680\n",
            "Name: Sex, dtype: int64\n",
            "Other                     137171\n",
            "Abroad                     17386\n",
            "Contact with confirmed      8632\n",
            "Name: Known_contact, dtype: int64\n"
          ]
        }
      ]
    },
    {
      "cell_type": "code",
      "source": [
        "df.isnull().sum()"
      ],
      "metadata": {
        "colab": {
          "base_uri": "https://localhost:8080/"
        },
        "id": "yBqMa9dpYW-F",
        "outputId": "e3d82742-7885-487d-c246-b6eb1ac1a6cb"
      },
      "execution_count": 16,
      "outputs": [
        {
          "output_type": "execute_result",
          "data": {
            "text/plain": [
              "Ind_ID                 0\n",
              "Test_date              0\n",
              "Cough_symptoms         0\n",
              "Fever                  0\n",
              "Sore_throat            0\n",
              "Shortness_of_breath    0\n",
              "Headache               0\n",
              "Corona                 0\n",
              "Age_60_above           0\n",
              "Sex                    0\n",
              "Known_contact          0\n",
              "dtype: int64"
            ]
          },
          "metadata": {},
          "execution_count": 16
        }
      ]
    },
    {
      "cell_type": "code",
      "source": [
        "for i in df.columns[2:]:\n",
        "  print(\"\\nUnique values in '{}' are :\\n\".format(i),df[i].unique())"
      ],
      "metadata": {
        "colab": {
          "base_uri": "https://localhost:8080/"
        },
        "id": "OHWg8DYkeASW",
        "outputId": "9957943e-5693-4c58-dadd-f8c7f0da03fe"
      },
      "execution_count": 17,
      "outputs": [
        {
          "output_type": "stream",
          "name": "stdout",
          "text": [
            "\n",
            "Unique values in 'Cough_symptoms' are :\n",
            " ['TRUE' 'FALSE' 'None' False True]\n",
            "\n",
            "Unique values in 'Fever' are :\n",
            " ['FALSE' 'TRUE' 'None' False True]\n",
            "\n",
            "Unique values in 'Sore_throat' are :\n",
            " ['TRUE' 'FALSE' 'None' False True]\n",
            "\n",
            "Unique values in 'Shortness_of_breath' are :\n",
            " ['FALSE' 'TRUE' 'None' False True]\n",
            "\n",
            "Unique values in 'Headache' are :\n",
            " ['FALSE' 'TRUE' 'None' False True]\n",
            "\n",
            "Unique values in 'Corona' are :\n",
            " ['negative' 'positive' 'other']\n",
            "\n",
            "Unique values in 'Age_60_above' are :\n",
            " ['None' 'No' 'Yes']\n",
            "\n",
            "Unique values in 'Sex' are :\n",
            " ['None' 'male' 'female']\n",
            "\n",
            "Unique values in 'Known_contact' are :\n",
            " ['Abroad' 'Contact with confirmed' 'Other']\n"
          ]
        }
      ]
    },
    {
      "cell_type": "code",
      "source": [
        "df.shape"
      ],
      "metadata": {
        "colab": {
          "base_uri": "https://localhost:8080/"
        },
        "id": "96nfJWrBDSsn",
        "outputId": "cda704eb-5460-488b-fb2a-f2a1d7614961"
      },
      "execution_count": 18,
      "outputs": [
        {
          "output_type": "execute_result",
          "data": {
            "text/plain": [
              "(163189, 11)"
            ]
          },
          "metadata": {},
          "execution_count": 18
        }
      ]
    },
    {
      "cell_type": "markdown",
      "source": [
        "#**FEATURE ENGINEERING**"
      ],
      "metadata": {
        "id": "ossQAu9uNUj1"
      }
    },
    {
      "cell_type": "code",
      "source": [
        "symptoms = [\"Cough_symptoms\", \"Fever\", \"Sore_throat\", \"Shortness_of_breath\", \"Headache\", \"Sex\", \"Corona\"]\n",
        "for i in symptoms:\n",
        "  df[i] = df[i].replace(\"TRUE\",1)\n",
        "  df[i] = df[i].replace(\"FALSE\",0)\n",
        "  df[i] = df[i].replace(True,1)\n",
        "  df[i] = df[i].replace(False,0)\n",
        "  df[i] = df[i].replace(\"None\",np.nan)\n",
        "  df[i] = df[i].replace(\"Yes\",1)\n",
        "  df[i] = df[i].replace(\"No\",0)\n",
        "  df[i] = df[i].replace(\"other\",np.nan)\n",
        "  # df[i] = df[i].replace(\"positive\",1)\n",
        "  # df[i] = df[i].replace(\"negative\",0)"
      ],
      "metadata": {
        "id": "mhkY9vwtzE-Q"
      },
      "execution_count": 19,
      "outputs": []
    },
    {
      "cell_type": "code",
      "source": [
        "df.isnull().sum()"
      ],
      "metadata": {
        "colab": {
          "base_uri": "https://localhost:8080/"
        },
        "id": "dL8XuoU9M-6d",
        "outputId": "49e2fc53-9d6b-4261-c043-297b4cfb4457"
      },
      "execution_count": 20,
      "outputs": [
        {
          "output_type": "execute_result",
          "data": {
            "text/plain": [
              "Ind_ID                     0\n",
              "Test_date                  0\n",
              "Cough_symptoms           252\n",
              "Fever                    252\n",
              "Sore_throat                1\n",
              "Shortness_of_breath        1\n",
              "Headache                   1\n",
              "Corona                  2472\n",
              "Age_60_above               0\n",
              "Sex                    17680\n",
              "Known_contact              0\n",
              "dtype: int64"
            ]
          },
          "metadata": {},
          "execution_count": 20
        }
      ]
    },
    {
      "cell_type": "code",
      "source": [
        "df.head()"
      ],
      "metadata": {
        "colab": {
          "base_uri": "https://localhost:8080/",
          "height": 0
        },
        "id": "3h6k7sxf1E71",
        "outputId": "8211d8b9-f357-4caa-8c18-41152188f74a"
      },
      "execution_count": 21,
      "outputs": [
        {
          "output_type": "execute_result",
          "data": {
            "text/plain": [
              "   Ind_ID  Test_date  Cough_symptoms  Fever  Sore_throat  Shortness_of_breath  \\\n",
              "0       1 2020-03-11             1.0    0.0          1.0                  0.0   \n",
              "1       2 2020-03-11             0.0    1.0          0.0                  0.0   \n",
              "2       3 2020-03-11             0.0    1.0          0.0                  0.0   \n",
              "3       4 2020-03-11             1.0    0.0          0.0                  0.0   \n",
              "4       5 2020-03-11             1.0    0.0          0.0                  0.0   \n",
              "\n",
              "   Headache    Corona Age_60_above  Sex           Known_contact  \n",
              "0       0.0  negative         None  NaN                  Abroad  \n",
              "1       0.0  positive         None  NaN                  Abroad  \n",
              "2       0.0  positive         None  NaN                  Abroad  \n",
              "3       0.0  negative         None  NaN                  Abroad  \n",
              "4       0.0  negative         None  NaN  Contact with confirmed  "
            ],
            "text/html": [
              "\n",
              "  <div id=\"df-0dfa6065-da6d-43b1-9f47-3c9ca83e53fd\">\n",
              "    <div class=\"colab-df-container\">\n",
              "      <div>\n",
              "<style scoped>\n",
              "    .dataframe tbody tr th:only-of-type {\n",
              "        vertical-align: middle;\n",
              "    }\n",
              "\n",
              "    .dataframe tbody tr th {\n",
              "        vertical-align: top;\n",
              "    }\n",
              "\n",
              "    .dataframe thead th {\n",
              "        text-align: right;\n",
              "    }\n",
              "</style>\n",
              "<table border=\"1\" class=\"dataframe\">\n",
              "  <thead>\n",
              "    <tr style=\"text-align: right;\">\n",
              "      <th></th>\n",
              "      <th>Ind_ID</th>\n",
              "      <th>Test_date</th>\n",
              "      <th>Cough_symptoms</th>\n",
              "      <th>Fever</th>\n",
              "      <th>Sore_throat</th>\n",
              "      <th>Shortness_of_breath</th>\n",
              "      <th>Headache</th>\n",
              "      <th>Corona</th>\n",
              "      <th>Age_60_above</th>\n",
              "      <th>Sex</th>\n",
              "      <th>Known_contact</th>\n",
              "    </tr>\n",
              "  </thead>\n",
              "  <tbody>\n",
              "    <tr>\n",
              "      <th>0</th>\n",
              "      <td>1</td>\n",
              "      <td>2020-03-11</td>\n",
              "      <td>1.0</td>\n",
              "      <td>0.0</td>\n",
              "      <td>1.0</td>\n",
              "      <td>0.0</td>\n",
              "      <td>0.0</td>\n",
              "      <td>negative</td>\n",
              "      <td>None</td>\n",
              "      <td>NaN</td>\n",
              "      <td>Abroad</td>\n",
              "    </tr>\n",
              "    <tr>\n",
              "      <th>1</th>\n",
              "      <td>2</td>\n",
              "      <td>2020-03-11</td>\n",
              "      <td>0.0</td>\n",
              "      <td>1.0</td>\n",
              "      <td>0.0</td>\n",
              "      <td>0.0</td>\n",
              "      <td>0.0</td>\n",
              "      <td>positive</td>\n",
              "      <td>None</td>\n",
              "      <td>NaN</td>\n",
              "      <td>Abroad</td>\n",
              "    </tr>\n",
              "    <tr>\n",
              "      <th>2</th>\n",
              "      <td>3</td>\n",
              "      <td>2020-03-11</td>\n",
              "      <td>0.0</td>\n",
              "      <td>1.0</td>\n",
              "      <td>0.0</td>\n",
              "      <td>0.0</td>\n",
              "      <td>0.0</td>\n",
              "      <td>positive</td>\n",
              "      <td>None</td>\n",
              "      <td>NaN</td>\n",
              "      <td>Abroad</td>\n",
              "    </tr>\n",
              "    <tr>\n",
              "      <th>3</th>\n",
              "      <td>4</td>\n",
              "      <td>2020-03-11</td>\n",
              "      <td>1.0</td>\n",
              "      <td>0.0</td>\n",
              "      <td>0.0</td>\n",
              "      <td>0.0</td>\n",
              "      <td>0.0</td>\n",
              "      <td>negative</td>\n",
              "      <td>None</td>\n",
              "      <td>NaN</td>\n",
              "      <td>Abroad</td>\n",
              "    </tr>\n",
              "    <tr>\n",
              "      <th>4</th>\n",
              "      <td>5</td>\n",
              "      <td>2020-03-11</td>\n",
              "      <td>1.0</td>\n",
              "      <td>0.0</td>\n",
              "      <td>0.0</td>\n",
              "      <td>0.0</td>\n",
              "      <td>0.0</td>\n",
              "      <td>negative</td>\n",
              "      <td>None</td>\n",
              "      <td>NaN</td>\n",
              "      <td>Contact with confirmed</td>\n",
              "    </tr>\n",
              "  </tbody>\n",
              "</table>\n",
              "</div>\n",
              "      <button class=\"colab-df-convert\" onclick=\"convertToInteractive('df-0dfa6065-da6d-43b1-9f47-3c9ca83e53fd')\"\n",
              "              title=\"Convert this dataframe to an interactive table.\"\n",
              "              style=\"display:none;\">\n",
              "        \n",
              "  <svg xmlns=\"http://www.w3.org/2000/svg\" height=\"24px\"viewBox=\"0 0 24 24\"\n",
              "       width=\"24px\">\n",
              "    <path d=\"M0 0h24v24H0V0z\" fill=\"none\"/>\n",
              "    <path d=\"M18.56 5.44l.94 2.06.94-2.06 2.06-.94-2.06-.94-.94-2.06-.94 2.06-2.06.94zm-11 1L8.5 8.5l.94-2.06 2.06-.94-2.06-.94L8.5 2.5l-.94 2.06-2.06.94zm10 10l.94 2.06.94-2.06 2.06-.94-2.06-.94-.94-2.06-.94 2.06-2.06.94z\"/><path d=\"M17.41 7.96l-1.37-1.37c-.4-.4-.92-.59-1.43-.59-.52 0-1.04.2-1.43.59L10.3 9.45l-7.72 7.72c-.78.78-.78 2.05 0 2.83L4 21.41c.39.39.9.59 1.41.59.51 0 1.02-.2 1.41-.59l7.78-7.78 2.81-2.81c.8-.78.8-2.07 0-2.86zM5.41 20L4 18.59l7.72-7.72 1.47 1.35L5.41 20z\"/>\n",
              "  </svg>\n",
              "      </button>\n",
              "      \n",
              "  <style>\n",
              "    .colab-df-container {\n",
              "      display:flex;\n",
              "      flex-wrap:wrap;\n",
              "      gap: 12px;\n",
              "    }\n",
              "\n",
              "    .colab-df-convert {\n",
              "      background-color: #E8F0FE;\n",
              "      border: none;\n",
              "      border-radius: 50%;\n",
              "      cursor: pointer;\n",
              "      display: none;\n",
              "      fill: #1967D2;\n",
              "      height: 32px;\n",
              "      padding: 0 0 0 0;\n",
              "      width: 32px;\n",
              "    }\n",
              "\n",
              "    .colab-df-convert:hover {\n",
              "      background-color: #E2EBFA;\n",
              "      box-shadow: 0px 1px 2px rgba(60, 64, 67, 0.3), 0px 1px 3px 1px rgba(60, 64, 67, 0.15);\n",
              "      fill: #174EA6;\n",
              "    }\n",
              "\n",
              "    [theme=dark] .colab-df-convert {\n",
              "      background-color: #3B4455;\n",
              "      fill: #D2E3FC;\n",
              "    }\n",
              "\n",
              "    [theme=dark] .colab-df-convert:hover {\n",
              "      background-color: #434B5C;\n",
              "      box-shadow: 0px 1px 3px 1px rgba(0, 0, 0, 0.15);\n",
              "      filter: drop-shadow(0px 1px 2px rgba(0, 0, 0, 0.3));\n",
              "      fill: #FFFFFF;\n",
              "    }\n",
              "  </style>\n",
              "\n",
              "      <script>\n",
              "        const buttonEl =\n",
              "          document.querySelector('#df-0dfa6065-da6d-43b1-9f47-3c9ca83e53fd button.colab-df-convert');\n",
              "        buttonEl.style.display =\n",
              "          google.colab.kernel.accessAllowed ? 'block' : 'none';\n",
              "\n",
              "        async function convertToInteractive(key) {\n",
              "          const element = document.querySelector('#df-0dfa6065-da6d-43b1-9f47-3c9ca83e53fd');\n",
              "          const dataTable =\n",
              "            await google.colab.kernel.invokeFunction('convertToInteractive',\n",
              "                                                     [key], {});\n",
              "          if (!dataTable) return;\n",
              "\n",
              "          const docLinkHtml = 'Like what you see? Visit the ' +\n",
              "            '<a target=\"_blank\" href=https://colab.research.google.com/notebooks/data_table.ipynb>data table notebook</a>'\n",
              "            + ' to learn more about interactive tables.';\n",
              "          element.innerHTML = '';\n",
              "          dataTable['output_type'] = 'display_data';\n",
              "          await google.colab.output.renderOutput(dataTable, element);\n",
              "          const docLink = document.createElement('div');\n",
              "          docLink.innerHTML = docLinkHtml;\n",
              "          element.appendChild(docLink);\n",
              "        }\n",
              "      </script>\n",
              "    </div>\n",
              "  </div>\n",
              "  "
            ]
          },
          "metadata": {},
          "execution_count": 21
        }
      ]
    },
    {
      "cell_type": "code",
      "source": [
        "df.shape"
      ],
      "metadata": {
        "colab": {
          "base_uri": "https://localhost:8080/"
        },
        "id": "UWEV4VHEUzgv",
        "outputId": "25bece72-580b-4029-a136-8331c550279b"
      },
      "execution_count": 22,
      "outputs": [
        {
          "output_type": "execute_result",
          "data": {
            "text/plain": [
              "(163189, 11)"
            ]
          },
          "metadata": {},
          "execution_count": 22
        }
      ]
    },
    {
      "cell_type": "code",
      "source": [
        "df.dropna(inplace = True)"
      ],
      "metadata": {
        "id": "CeieEgxfUvTH"
      },
      "execution_count": 23,
      "outputs": []
    },
    {
      "cell_type": "code",
      "source": [
        "df.shape"
      ],
      "metadata": {
        "colab": {
          "base_uri": "https://localhost:8080/"
        },
        "id": "x_0Yu4FPUyam",
        "outputId": "8dbd841e-0e24-4051-de46-14561afef1f7"
      },
      "execution_count": 24,
      "outputs": [
        {
          "output_type": "execute_result",
          "data": {
            "text/plain": [
              "(143305, 11)"
            ]
          },
          "metadata": {},
          "execution_count": 24
        }
      ]
    },
    {
      "cell_type": "code",
      "source": [
        "df.drop([\"Ind_ID\", \"Test_date\", \"Age_60_above\"], axis=1, inplace =True)"
      ],
      "metadata": {
        "id": "T02aSmInMVkl"
      },
      "execution_count": 25,
      "outputs": []
    },
    {
      "cell_type": "markdown",
      "source": [
        "#**FEATURE SCALING**"
      ],
      "metadata": {
        "id": "Nj3kRs7qUC4p"
      }
    },
    {
      "cell_type": "code",
      "source": [
        "df.head()"
      ],
      "metadata": {
        "colab": {
          "base_uri": "https://localhost:8080/",
          "height": 206
        },
        "id": "rH0kG10xlQDS",
        "outputId": "2efe1853-694b-4d53-e1dc-4a8b2345bb41"
      },
      "execution_count": 26,
      "outputs": [
        {
          "output_type": "execute_result",
          "data": {
            "text/plain": [
              "       Cough_symptoms  Fever  Sore_throat  Shortness_of_breath  Headache  \\\n",
              "13727             1.0    0.0          0.0                  0.0       0.0   \n",
              "13728             1.0    0.0          0.0                  0.0       0.0   \n",
              "13730             1.0    1.0          0.0                  0.0       0.0   \n",
              "13734             0.0    0.0          0.0                  0.0       0.0   \n",
              "13735             0.0    0.0          0.0                  0.0       0.0   \n",
              "\n",
              "         Corona     Sex Known_contact  \n",
              "13727  negative    male        Abroad  \n",
              "13728  negative  female        Abroad  \n",
              "13730  positive  female         Other  \n",
              "13734  negative    male         Other  \n",
              "13735  negative  female         Other  "
            ],
            "text/html": [
              "\n",
              "  <div id=\"df-31751d40-5bd5-42a4-8eda-8fb6a3768a7e\">\n",
              "    <div class=\"colab-df-container\">\n",
              "      <div>\n",
              "<style scoped>\n",
              "    .dataframe tbody tr th:only-of-type {\n",
              "        vertical-align: middle;\n",
              "    }\n",
              "\n",
              "    .dataframe tbody tr th {\n",
              "        vertical-align: top;\n",
              "    }\n",
              "\n",
              "    .dataframe thead th {\n",
              "        text-align: right;\n",
              "    }\n",
              "</style>\n",
              "<table border=\"1\" class=\"dataframe\">\n",
              "  <thead>\n",
              "    <tr style=\"text-align: right;\">\n",
              "      <th></th>\n",
              "      <th>Cough_symptoms</th>\n",
              "      <th>Fever</th>\n",
              "      <th>Sore_throat</th>\n",
              "      <th>Shortness_of_breath</th>\n",
              "      <th>Headache</th>\n",
              "      <th>Corona</th>\n",
              "      <th>Sex</th>\n",
              "      <th>Known_contact</th>\n",
              "    </tr>\n",
              "  </thead>\n",
              "  <tbody>\n",
              "    <tr>\n",
              "      <th>13727</th>\n",
              "      <td>1.0</td>\n",
              "      <td>0.0</td>\n",
              "      <td>0.0</td>\n",
              "      <td>0.0</td>\n",
              "      <td>0.0</td>\n",
              "      <td>negative</td>\n",
              "      <td>male</td>\n",
              "      <td>Abroad</td>\n",
              "    </tr>\n",
              "    <tr>\n",
              "      <th>13728</th>\n",
              "      <td>1.0</td>\n",
              "      <td>0.0</td>\n",
              "      <td>0.0</td>\n",
              "      <td>0.0</td>\n",
              "      <td>0.0</td>\n",
              "      <td>negative</td>\n",
              "      <td>female</td>\n",
              "      <td>Abroad</td>\n",
              "    </tr>\n",
              "    <tr>\n",
              "      <th>13730</th>\n",
              "      <td>1.0</td>\n",
              "      <td>1.0</td>\n",
              "      <td>0.0</td>\n",
              "      <td>0.0</td>\n",
              "      <td>0.0</td>\n",
              "      <td>positive</td>\n",
              "      <td>female</td>\n",
              "      <td>Other</td>\n",
              "    </tr>\n",
              "    <tr>\n",
              "      <th>13734</th>\n",
              "      <td>0.0</td>\n",
              "      <td>0.0</td>\n",
              "      <td>0.0</td>\n",
              "      <td>0.0</td>\n",
              "      <td>0.0</td>\n",
              "      <td>negative</td>\n",
              "      <td>male</td>\n",
              "      <td>Other</td>\n",
              "    </tr>\n",
              "    <tr>\n",
              "      <th>13735</th>\n",
              "      <td>0.0</td>\n",
              "      <td>0.0</td>\n",
              "      <td>0.0</td>\n",
              "      <td>0.0</td>\n",
              "      <td>0.0</td>\n",
              "      <td>negative</td>\n",
              "      <td>female</td>\n",
              "      <td>Other</td>\n",
              "    </tr>\n",
              "  </tbody>\n",
              "</table>\n",
              "</div>\n",
              "      <button class=\"colab-df-convert\" onclick=\"convertToInteractive('df-31751d40-5bd5-42a4-8eda-8fb6a3768a7e')\"\n",
              "              title=\"Convert this dataframe to an interactive table.\"\n",
              "              style=\"display:none;\">\n",
              "        \n",
              "  <svg xmlns=\"http://www.w3.org/2000/svg\" height=\"24px\"viewBox=\"0 0 24 24\"\n",
              "       width=\"24px\">\n",
              "    <path d=\"M0 0h24v24H0V0z\" fill=\"none\"/>\n",
              "    <path d=\"M18.56 5.44l.94 2.06.94-2.06 2.06-.94-2.06-.94-.94-2.06-.94 2.06-2.06.94zm-11 1L8.5 8.5l.94-2.06 2.06-.94-2.06-.94L8.5 2.5l-.94 2.06-2.06.94zm10 10l.94 2.06.94-2.06 2.06-.94-2.06-.94-.94-2.06-.94 2.06-2.06.94z\"/><path d=\"M17.41 7.96l-1.37-1.37c-.4-.4-.92-.59-1.43-.59-.52 0-1.04.2-1.43.59L10.3 9.45l-7.72 7.72c-.78.78-.78 2.05 0 2.83L4 21.41c.39.39.9.59 1.41.59.51 0 1.02-.2 1.41-.59l7.78-7.78 2.81-2.81c.8-.78.8-2.07 0-2.86zM5.41 20L4 18.59l7.72-7.72 1.47 1.35L5.41 20z\"/>\n",
              "  </svg>\n",
              "      </button>\n",
              "      \n",
              "  <style>\n",
              "    .colab-df-container {\n",
              "      display:flex;\n",
              "      flex-wrap:wrap;\n",
              "      gap: 12px;\n",
              "    }\n",
              "\n",
              "    .colab-df-convert {\n",
              "      background-color: #E8F0FE;\n",
              "      border: none;\n",
              "      border-radius: 50%;\n",
              "      cursor: pointer;\n",
              "      display: none;\n",
              "      fill: #1967D2;\n",
              "      height: 32px;\n",
              "      padding: 0 0 0 0;\n",
              "      width: 32px;\n",
              "    }\n",
              "\n",
              "    .colab-df-convert:hover {\n",
              "      background-color: #E2EBFA;\n",
              "      box-shadow: 0px 1px 2px rgba(60, 64, 67, 0.3), 0px 1px 3px 1px rgba(60, 64, 67, 0.15);\n",
              "      fill: #174EA6;\n",
              "    }\n",
              "\n",
              "    [theme=dark] .colab-df-convert {\n",
              "      background-color: #3B4455;\n",
              "      fill: #D2E3FC;\n",
              "    }\n",
              "\n",
              "    [theme=dark] .colab-df-convert:hover {\n",
              "      background-color: #434B5C;\n",
              "      box-shadow: 0px 1px 3px 1px rgba(0, 0, 0, 0.15);\n",
              "      filter: drop-shadow(0px 1px 2px rgba(0, 0, 0, 0.3));\n",
              "      fill: #FFFFFF;\n",
              "    }\n",
              "  </style>\n",
              "\n",
              "      <script>\n",
              "        const buttonEl =\n",
              "          document.querySelector('#df-31751d40-5bd5-42a4-8eda-8fb6a3768a7e button.colab-df-convert');\n",
              "        buttonEl.style.display =\n",
              "          google.colab.kernel.accessAllowed ? 'block' : 'none';\n",
              "\n",
              "        async function convertToInteractive(key) {\n",
              "          const element = document.querySelector('#df-31751d40-5bd5-42a4-8eda-8fb6a3768a7e');\n",
              "          const dataTable =\n",
              "            await google.colab.kernel.invokeFunction('convertToInteractive',\n",
              "                                                     [key], {});\n",
              "          if (!dataTable) return;\n",
              "\n",
              "          const docLinkHtml = 'Like what you see? Visit the ' +\n",
              "            '<a target=\"_blank\" href=https://colab.research.google.com/notebooks/data_table.ipynb>data table notebook</a>'\n",
              "            + ' to learn more about interactive tables.';\n",
              "          element.innerHTML = '';\n",
              "          dataTable['output_type'] = 'display_data';\n",
              "          await google.colab.output.renderOutput(dataTable, element);\n",
              "          const docLink = document.createElement('div');\n",
              "          docLink.innerHTML = docLinkHtml;\n",
              "          element.appendChild(docLink);\n",
              "        }\n",
              "      </script>\n",
              "    </div>\n",
              "  </div>\n",
              "  "
            ]
          },
          "metadata": {},
          "execution_count": 26
        }
      ]
    },
    {
      "cell_type": "code",
      "source": [
        "X = df.drop([\"Corona\"], axis=1)\n",
        "y = df[\"Corona\"]"
      ],
      "metadata": {
        "id": "jaO7iPBgZEFS"
      },
      "execution_count": 27,
      "outputs": []
    },
    {
      "cell_type": "code",
      "source": [
        "from sklearn.model_selection import train_test_split\n",
        "\n",
        "X_train, X_test, y_train, y_test = train_test_split(X, y, test_size = 0.2, random_state=0)"
      ],
      "metadata": {
        "id": "mdOqDIgJO6wy"
      },
      "execution_count": 28,
      "outputs": []
    },
    {
      "cell_type": "code",
      "source": [
        "X_train.shape, y_train.shape"
      ],
      "metadata": {
        "colab": {
          "base_uri": "https://localhost:8080/"
        },
        "id": "QccV7waVO6yi",
        "outputId": "84f841d6-f296-494c-8aba-71c08dc3342f"
      },
      "execution_count": 29,
      "outputs": [
        {
          "output_type": "execute_result",
          "data": {
            "text/plain": [
              "((114644, 7), (114644,))"
            ]
          },
          "metadata": {},
          "execution_count": 29
        }
      ]
    },
    {
      "cell_type": "code",
      "source": [
        "from sklearn.preprocessing import OneHotEncoder, LabelEncoder\n",
        "from sklearn.compose import ColumnTransformer\n",
        "ct = ColumnTransformer(transformers=[\n",
        "        ('cat1', OneHotEncoder(sparse = False, drop = \"first\"), [\"Sex\", \"Known_contact\"])\n",
        "                                    ], remainder='passthrough')\n",
        "\n",
        "\n",
        "#Using fit_transform to the train data.\n",
        "X_train = ct.fit_transform(X_train)\n",
        "\n",
        "#\"transform\" only to avoid data leakage.\n",
        "X_test = ct.transform(X_test)"
      ],
      "metadata": {
        "id": "haGRc2AgGCOP"
      },
      "execution_count": 30,
      "outputs": []
    },
    {
      "cell_type": "code",
      "source": [
        "le = LabelEncoder()\n",
        "y_train = le.fit_transform(y_train)\n",
        "y_test = le.transform(y_test)"
      ],
      "metadata": {
        "id": "mdapmtt6lnPI"
      },
      "execution_count": 31,
      "outputs": []
    },
    {
      "cell_type": "code",
      "source": [
        "X_train.shape, y_train.shape"
      ],
      "metadata": {
        "colab": {
          "base_uri": "https://localhost:8080/"
        },
        "id": "1jCbeQI6VRAX",
        "outputId": "9075d41f-f826-4178-c910-ecf63e155d47"
      },
      "execution_count": 32,
      "outputs": [
        {
          "output_type": "execute_result",
          "data": {
            "text/plain": [
              "((114644, 8), (114644,))"
            ]
          },
          "metadata": {},
          "execution_count": 32
        }
      ]
    },
    {
      "cell_type": "code",
      "source": [
        "X_test.shape, y_test.shape"
      ],
      "metadata": {
        "colab": {
          "base_uri": "https://localhost:8080/"
        },
        "id": "Ef5f6vzFVUoO",
        "outputId": "ea0adff3-dcda-4457-c08b-fdc5bde61f23"
      },
      "execution_count": 33,
      "outputs": [
        {
          "output_type": "execute_result",
          "data": {
            "text/plain": [
              "((28661, 8), (28661,))"
            ]
          },
          "metadata": {},
          "execution_count": 33
        }
      ]
    },
    {
      "cell_type": "code",
      "source": [
        "#Importing Standardization from sklearn\n",
        "from sklearn.preprocessing import StandardScaler\n",
        "scaler = StandardScaler()\n",
        "\n",
        "#Using fit_transform to the train data.\n",
        "X_train = scaler.fit_transform(X_train)\n",
        "\n",
        "#\"transform\" only to avoid data leakage.\n",
        "X_test = scaler.transform(X_test)"
      ],
      "metadata": {
        "id": "wwqRdnSjVGlX"
      },
      "execution_count": 34,
      "outputs": []
    },
    {
      "cell_type": "markdown",
      "source": [
        "###Logistic"
      ],
      "metadata": {
        "id": "s_pDvBGbbNdh"
      }
    },
    {
      "cell_type": "code",
      "source": [
        "from sklearn.linear_model import LogisticRegression\n",
        "from sklearn.metrics import accuracy_score, confusion_matrix, classification_report\n",
        "log_reg = LogisticRegression()\n",
        "log_reg.fit(X_train,y_train)\n",
        "y_pred = log_reg.predict(X_test)\n",
        "print(\"Accuracy of Logistic Regression Model : {}%\".format(round(accuracy_score(y_pred, y_test)*100)))\n",
        "print(\"Classification Report of Logistic Regression Model : \\n\",classification_report(y_pred, y_test))"
      ],
      "metadata": {
        "colab": {
          "base_uri": "https://localhost:8080/"
        },
        "id": "-Hx0mvhEO6zx",
        "outputId": "2866b247-73d7-4755-f7c3-a4e0870bb331"
      },
      "execution_count": 35,
      "outputs": [
        {
          "output_type": "stream",
          "name": "stdout",
          "text": [
            "Accuracy of Logistic Regression Model : 95%\n",
            "Classification Report of Logistic Regression Model : \n",
            "               precision    recall  f1-score   support\n",
            "\n",
            "           0       0.99      0.96      0.98     27177\n",
            "           1       0.54      0.78      0.64      1484\n",
            "\n",
            "    accuracy                           0.95     28661\n",
            "   macro avg       0.76      0.87      0.81     28661\n",
            "weighted avg       0.96      0.95      0.96     28661\n",
            "\n"
          ]
        }
      ]
    },
    {
      "cell_type": "code",
      "source": [
        "confusion_matrix(y_pred, y_test)"
      ],
      "metadata": {
        "colab": {
          "base_uri": "https://localhost:8080/"
        },
        "id": "0kRC_fTIZPqr",
        "outputId": "78ca9600-1025-45d6-c5f7-0cfdff65dfa1"
      },
      "execution_count": 36,
      "outputs": [
        {
          "output_type": "execute_result",
          "data": {
            "text/plain": [
              "array([[26174,  1003],\n",
              "       [  323,  1161]])"
            ]
          },
          "metadata": {},
          "execution_count": 36
        }
      ]
    },
    {
      "cell_type": "code",
      "source": [
        "from sklearn.model_selection import GridSearchCV\n",
        "parameter = {\"penalty\":[\"l1\", \"l2\", \"elasticnet\"],\n",
        "             \"C\" : [1,2,3,4,5,6,10,20,40,50],\n",
        "             \"max_iter\" : [100,200,300,400,500]}\n",
        "Classfier_Reg = GridSearchCV(log_reg,param_grid=parameter, scoring=\"accuracy\", cv=10)"
      ],
      "metadata": {
        "id": "NxqyQ19VTv9l"
      },
      "execution_count": 39,
      "outputs": []
    },
    {
      "cell_type": "code",
      "source": [
        "Classfier_Reg.fit(X_train, y_train)"
      ],
      "metadata": {
        "colab": {
          "base_uri": "https://localhost:8080/",
          "height": 118
        },
        "id": "bg_U_OtzTzhY",
        "outputId": "5e80f37a-0ab2-4c68-b08e-934f9deaa4ab"
      },
      "execution_count": 40,
      "outputs": [
        {
          "output_type": "execute_result",
          "data": {
            "text/plain": [
              "GridSearchCV(cv=10, estimator=LogisticRegression(),\n",
              "             param_grid={'C': [1, 2, 3, 4, 5, 6, 10, 20, 40, 50],\n",
              "                         'max_iter': [100, 200, 300, 400, 500],\n",
              "                         'penalty': ['l1', 'l2', 'elasticnet']},\n",
              "             scoring='accuracy')"
            ],
            "text/html": [
              "<style>#sk-container-id-1 {color: black;background-color: white;}#sk-container-id-1 pre{padding: 0;}#sk-container-id-1 div.sk-toggleable {background-color: white;}#sk-container-id-1 label.sk-toggleable__label {cursor: pointer;display: block;width: 100%;margin-bottom: 0;padding: 0.3em;box-sizing: border-box;text-align: center;}#sk-container-id-1 label.sk-toggleable__label-arrow:before {content: \"▸\";float: left;margin-right: 0.25em;color: #696969;}#sk-container-id-1 label.sk-toggleable__label-arrow:hover:before {color: black;}#sk-container-id-1 div.sk-estimator:hover label.sk-toggleable__label-arrow:before {color: black;}#sk-container-id-1 div.sk-toggleable__content {max-height: 0;max-width: 0;overflow: hidden;text-align: left;background-color: #f0f8ff;}#sk-container-id-1 div.sk-toggleable__content pre {margin: 0.2em;color: black;border-radius: 0.25em;background-color: #f0f8ff;}#sk-container-id-1 input.sk-toggleable__control:checked~div.sk-toggleable__content {max-height: 200px;max-width: 100%;overflow: auto;}#sk-container-id-1 input.sk-toggleable__control:checked~label.sk-toggleable__label-arrow:before {content: \"▾\";}#sk-container-id-1 div.sk-estimator input.sk-toggleable__control:checked~label.sk-toggleable__label {background-color: #d4ebff;}#sk-container-id-1 div.sk-label input.sk-toggleable__control:checked~label.sk-toggleable__label {background-color: #d4ebff;}#sk-container-id-1 input.sk-hidden--visually {border: 0;clip: rect(1px 1px 1px 1px);clip: rect(1px, 1px, 1px, 1px);height: 1px;margin: -1px;overflow: hidden;padding: 0;position: absolute;width: 1px;}#sk-container-id-1 div.sk-estimator {font-family: monospace;background-color: #f0f8ff;border: 1px dotted black;border-radius: 0.25em;box-sizing: border-box;margin-bottom: 0.5em;}#sk-container-id-1 div.sk-estimator:hover {background-color: #d4ebff;}#sk-container-id-1 div.sk-parallel-item::after {content: \"\";width: 100%;border-bottom: 1px solid gray;flex-grow: 1;}#sk-container-id-1 div.sk-label:hover label.sk-toggleable__label {background-color: #d4ebff;}#sk-container-id-1 div.sk-serial::before {content: \"\";position: absolute;border-left: 1px solid gray;box-sizing: border-box;top: 0;bottom: 0;left: 50%;z-index: 0;}#sk-container-id-1 div.sk-serial {display: flex;flex-direction: column;align-items: center;background-color: white;padding-right: 0.2em;padding-left: 0.2em;position: relative;}#sk-container-id-1 div.sk-item {position: relative;z-index: 1;}#sk-container-id-1 div.sk-parallel {display: flex;align-items: stretch;justify-content: center;background-color: white;position: relative;}#sk-container-id-1 div.sk-item::before, #sk-container-id-1 div.sk-parallel-item::before {content: \"\";position: absolute;border-left: 1px solid gray;box-sizing: border-box;top: 0;bottom: 0;left: 50%;z-index: -1;}#sk-container-id-1 div.sk-parallel-item {display: flex;flex-direction: column;z-index: 1;position: relative;background-color: white;}#sk-container-id-1 div.sk-parallel-item:first-child::after {align-self: flex-end;width: 50%;}#sk-container-id-1 div.sk-parallel-item:last-child::after {align-self: flex-start;width: 50%;}#sk-container-id-1 div.sk-parallel-item:only-child::after {width: 0;}#sk-container-id-1 div.sk-dashed-wrapped {border: 1px dashed gray;margin: 0 0.4em 0.5em 0.4em;box-sizing: border-box;padding-bottom: 0.4em;background-color: white;}#sk-container-id-1 div.sk-label label {font-family: monospace;font-weight: bold;display: inline-block;line-height: 1.2em;}#sk-container-id-1 div.sk-label-container {text-align: center;}#sk-container-id-1 div.sk-container {/* jupyter's `normalize.less` sets `[hidden] { display: none; }` but bootstrap.min.css set `[hidden] { display: none !important; }` so we also need the `!important` here to be able to override the default hidden behavior on the sphinx rendered scikit-learn.org. See: https://github.com/scikit-learn/scikit-learn/issues/21755 */display: inline-block !important;position: relative;}#sk-container-id-1 div.sk-text-repr-fallback {display: none;}</style><div id=\"sk-container-id-1\" class=\"sk-top-container\"><div class=\"sk-text-repr-fallback\"><pre>GridSearchCV(cv=10, estimator=LogisticRegression(),\n",
              "             param_grid={&#x27;C&#x27;: [1, 2, 3, 4, 5, 6, 10, 20, 40, 50],\n",
              "                         &#x27;max_iter&#x27;: [100, 200, 300, 400, 500],\n",
              "                         &#x27;penalty&#x27;: [&#x27;l1&#x27;, &#x27;l2&#x27;, &#x27;elasticnet&#x27;]},\n",
              "             scoring=&#x27;accuracy&#x27;)</pre><b>In a Jupyter environment, please rerun this cell to show the HTML representation or trust the notebook. <br />On GitHub, the HTML representation is unable to render, please try loading this page with nbviewer.org.</b></div><div class=\"sk-container\" hidden><div class=\"sk-item sk-dashed-wrapped\"><div class=\"sk-label-container\"><div class=\"sk-label sk-toggleable\"><input class=\"sk-toggleable__control sk-hidden--visually\" id=\"sk-estimator-id-1\" type=\"checkbox\" ><label for=\"sk-estimator-id-1\" class=\"sk-toggleable__label sk-toggleable__label-arrow\">GridSearchCV</label><div class=\"sk-toggleable__content\"><pre>GridSearchCV(cv=10, estimator=LogisticRegression(),\n",
              "             param_grid={&#x27;C&#x27;: [1, 2, 3, 4, 5, 6, 10, 20, 40, 50],\n",
              "                         &#x27;max_iter&#x27;: [100, 200, 300, 400, 500],\n",
              "                         &#x27;penalty&#x27;: [&#x27;l1&#x27;, &#x27;l2&#x27;, &#x27;elasticnet&#x27;]},\n",
              "             scoring=&#x27;accuracy&#x27;)</pre></div></div></div><div class=\"sk-parallel\"><div class=\"sk-parallel-item\"><div class=\"sk-item\"><div class=\"sk-label-container\"><div class=\"sk-label sk-toggleable\"><input class=\"sk-toggleable__control sk-hidden--visually\" id=\"sk-estimator-id-2\" type=\"checkbox\" ><label for=\"sk-estimator-id-2\" class=\"sk-toggleable__label sk-toggleable__label-arrow\">estimator: LogisticRegression</label><div class=\"sk-toggleable__content\"><pre>LogisticRegression()</pre></div></div></div><div class=\"sk-serial\"><div class=\"sk-item\"><div class=\"sk-estimator sk-toggleable\"><input class=\"sk-toggleable__control sk-hidden--visually\" id=\"sk-estimator-id-3\" type=\"checkbox\" ><label for=\"sk-estimator-id-3\" class=\"sk-toggleable__label sk-toggleable__label-arrow\">LogisticRegression</label><div class=\"sk-toggleable__content\"><pre>LogisticRegression()</pre></div></div></div></div></div></div></div></div></div></div>"
            ]
          },
          "metadata": {},
          "execution_count": 40
        }
      ]
    },
    {
      "cell_type": "code",
      "source": [
        "print(Classfier_Reg.best_params_)\n",
        "print(Classfier_Reg.best_score_)\n",
        "y_pred_tune_grid = Classfier_Reg.predict(X_test)\n",
        "print(\"Accuracy is {}%\".format(round(accuracy_score(y_pred_tune_grid, y_test)*100)))\n",
        "print(classification_report(y_pred_tune_grid, y_test))"
      ],
      "metadata": {
        "colab": {
          "base_uri": "https://localhost:8080/"
        },
        "id": "hhygnwv0T2O1",
        "outputId": "2f5b3f86-07b3-479c-aeca-a05fefc39ec4"
      },
      "execution_count": 41,
      "outputs": [
        {
          "output_type": "stream",
          "name": "stdout",
          "text": [
            "{'C': 4, 'max_iter': 100, 'penalty': 'l2'}\n",
            "0.9523045509422315\n",
            "Accuracy is 95%\n",
            "              precision    recall  f1-score   support\n",
            "\n",
            "         0.0       0.99      0.96      0.98     27177\n",
            "         1.0       0.54      0.78      0.64      1484\n",
            "\n",
            "    accuracy                           0.95     28661\n",
            "   macro avg       0.76      0.87      0.81     28661\n",
            "weighted avg       0.96      0.95      0.96     28661\n",
            "\n"
          ]
        }
      ]
    },
    {
      "cell_type": "code",
      "source": [
        "confusion_matrix(y_pred_tune_grid, y_test)"
      ],
      "metadata": {
        "colab": {
          "base_uri": "https://localhost:8080/"
        },
        "id": "jvFuPzwmZXkD",
        "outputId": "3b2db1f5-9eb1-42b2-c675-e8585522665c"
      },
      "execution_count": 42,
      "outputs": [
        {
          "output_type": "execute_result",
          "data": {
            "text/plain": [
              "array([[26174,  1003],\n",
              "       [  323,  1161]])"
            ]
          },
          "metadata": {},
          "execution_count": 42
        }
      ]
    },
    {
      "cell_type": "markdown",
      "source": [
        "###Decision Tree"
      ],
      "metadata": {
        "id": "z05FRZ2LbQKQ"
      }
    },
    {
      "cell_type": "code",
      "source": [
        "from sklearn.tree import DecisionTreeClassifier\n",
        "dec_tree = DecisionTreeClassifier()\n",
        "dec_tree.fit(X_train,y_train)\n",
        "y_pred_dec = dec_tree.predict(X_test)\n",
        "accuracy_score(y_pred_dec, y_test)*100"
      ],
      "metadata": {
        "colab": {
          "base_uri": "https://localhost:8080/"
        },
        "id": "YGYwHhGUO618",
        "outputId": "c41ef86c-a7ac-42be-e301-c11e07db2755"
      },
      "execution_count": 43,
      "outputs": [
        {
          "output_type": "execute_result",
          "data": {
            "text/plain": [
              "95.99804612539688"
            ]
          },
          "metadata": {},
          "execution_count": 43
        }
      ]
    },
    {
      "cell_type": "code",
      "source": [
        "confusion_matrix(y_pred_dec, y_test)"
      ],
      "metadata": {
        "colab": {
          "base_uri": "https://localhost:8080/"
        },
        "id": "uGpLqRdgatbC",
        "outputId": "8e6fd812-db9a-4928-b377-c0162e2e37a9"
      },
      "execution_count": 49,
      "outputs": [
        {
          "output_type": "execute_result",
          "data": {
            "text/plain": [
              "array([[26261,   911],\n",
              "       [  236,  1253]])"
            ]
          },
          "metadata": {},
          "execution_count": 49
        }
      ]
    },
    {
      "cell_type": "code",
      "source": [
        "print(classification_report(y_pred_dec, y_test))"
      ],
      "metadata": {
        "colab": {
          "base_uri": "https://localhost:8080/"
        },
        "id": "kf0khZRba0MK",
        "outputId": "c5b84de7-c3a5-4dc3-9fa4-1c8f3fa85c5a"
      },
      "execution_count": 51,
      "outputs": [
        {
          "output_type": "stream",
          "name": "stdout",
          "text": [
            "              precision    recall  f1-score   support\n",
            "\n",
            "         0.0       0.99      0.97      0.98     27172\n",
            "         1.0       0.58      0.84      0.69      1489\n",
            "\n",
            "    accuracy                           0.96     28661\n",
            "   macro avg       0.79      0.90      0.83     28661\n",
            "weighted avg       0.97      0.96      0.96     28661\n",
            "\n"
          ]
        }
      ]
    },
    {
      "cell_type": "markdown",
      "source": [
        "###KNN"
      ],
      "metadata": {
        "id": "5wb2TpSibUZB"
      }
    },
    {
      "cell_type": "code",
      "source": [
        "from sklearn.neighbors import KNeighborsClassifier\n",
        "knn = KNeighborsClassifier()\n",
        "knn.fit(X_train,y_train)\n",
        "y_pred_knn = knn.predict(X_test)\n",
        "accuracy_score(y_pred_knn, y_test)*100"
      ],
      "metadata": {
        "id": "jEZ1Y18qO65A",
        "colab": {
          "base_uri": "https://localhost:8080/"
        },
        "outputId": "ccca59f9-9e80-49db-ed07-deb5228163d4"
      },
      "execution_count": 47,
      "outputs": [
        {
          "output_type": "execute_result",
          "data": {
            "text/plain": [
              "95.79916960329368"
            ]
          },
          "metadata": {},
          "execution_count": 47
        }
      ]
    },
    {
      "cell_type": "code",
      "source": [
        "confusion_matrix(y_pred_knn, y_test)"
      ],
      "metadata": {
        "colab": {
          "base_uri": "https://localhost:8080/"
        },
        "id": "g_GfkG2fau46",
        "outputId": "efa26a54-47cc-4c43-bf23-aca5bc3796fc"
      },
      "execution_count": 52,
      "outputs": [
        {
          "output_type": "execute_result",
          "data": {
            "text/plain": [
              "array([[26126,   833],\n",
              "       [  371,  1331]])"
            ]
          },
          "metadata": {},
          "execution_count": 52
        }
      ]
    },
    {
      "cell_type": "code",
      "source": [
        "print(classification_report(y_pred_knn, y_test))"
      ],
      "metadata": {
        "colab": {
          "base_uri": "https://localhost:8080/"
        },
        "id": "CL5B2fn2a1H6",
        "outputId": "3f6fd86d-b71b-4ae1-ac30-5641009dfe33"
      },
      "execution_count": 53,
      "outputs": [
        {
          "output_type": "stream",
          "name": "stdout",
          "text": [
            "              precision    recall  f1-score   support\n",
            "\n",
            "         0.0       0.99      0.97      0.98     26959\n",
            "         1.0       0.62      0.78      0.69      1702\n",
            "\n",
            "    accuracy                           0.96     28661\n",
            "   macro avg       0.80      0.88      0.83     28661\n",
            "weighted avg       0.96      0.96      0.96     28661\n",
            "\n"
          ]
        }
      ]
    },
    {
      "cell_type": "markdown",
      "source": [
        "###Random Forest"
      ],
      "metadata": {
        "id": "ZKgQ72CwbV8J"
      }
    },
    {
      "cell_type": "code",
      "source": [
        "from sklearn.ensemble import RandomForestClassifier\n",
        "random_forest = RandomForestClassifier()\n",
        "random_forest.fit(X_train,y_train)\n",
        "y_pred_rfc = random_forest.predict(X_test)\n",
        "accuracy_score(y_pred_rfc, y_test)*100"
      ],
      "metadata": {
        "colab": {
          "base_uri": "https://localhost:8080/"
        },
        "id": "cBAeAmBHO67F",
        "outputId": "6713ea0a-c385-4f00-8ed3-434214909914"
      },
      "execution_count": 55,
      "outputs": [
        {
          "output_type": "execute_result",
          "data": {
            "text/plain": [
              "96.00502424897945"
            ]
          },
          "metadata": {},
          "execution_count": 55
        }
      ]
    },
    {
      "cell_type": "code",
      "source": [
        "confusion_matrix(y_pred_rfc, y_test)"
      ],
      "metadata": {
        "colab": {
          "base_uri": "https://localhost:8080/"
        },
        "id": "r8nIGBZRavX6",
        "outputId": "57eb8b2e-aadd-492b-e5c8-2e627527edc0"
      },
      "execution_count": 54,
      "outputs": [
        {
          "output_type": "execute_result",
          "data": {
            "text/plain": [
              "array([[26261,   908],\n",
              "       [  236,  1256]])"
            ]
          },
          "metadata": {},
          "execution_count": 54
        }
      ]
    },
    {
      "cell_type": "code",
      "source": [
        "print(classification_report(y_pred_rfc, y_test))"
      ],
      "metadata": {
        "colab": {
          "base_uri": "https://localhost:8080/"
        },
        "id": "7rWkRdOna1qR",
        "outputId": "23b129ab-b4f8-408f-e9af-21dabcdebb12"
      },
      "execution_count": 56,
      "outputs": [
        {
          "output_type": "stream",
          "name": "stdout",
          "text": [
            "              precision    recall  f1-score   support\n",
            "\n",
            "         0.0       0.99      0.97      0.98     27170\n",
            "         1.0       0.58      0.84      0.69      1491\n",
            "\n",
            "    accuracy                           0.96     28661\n",
            "   macro avg       0.79      0.90      0.83     28661\n",
            "weighted avg       0.97      0.96      0.96     28661\n",
            "\n"
          ]
        }
      ]
    },
    {
      "cell_type": "markdown",
      "source": [
        "###Gradient Boost"
      ],
      "metadata": {
        "id": "M3GV7N_6bYCS"
      }
    },
    {
      "cell_type": "code",
      "source": [
        "from sklearn.ensemble import GradientBoostingClassifier\n",
        "grad_boost = GradientBoostingClassifier()\n",
        "grad_boost.fit(X_train,y_train)\n",
        "y_pred_gbc = grad_boost.predict(X_test)\n",
        "accuracy_score(y_pred_gbc, y_test)*100"
      ],
      "metadata": {
        "colab": {
          "base_uri": "https://localhost:8080/"
        },
        "id": "9gcdV4dbO6-V",
        "outputId": "0fa264b6-0aa4-4bd0-9e36-e4fd1dbfea81"
      },
      "execution_count": 46,
      "outputs": [
        {
          "output_type": "execute_result",
          "data": {
            "text/plain": [
              "96.01200237256202"
            ]
          },
          "metadata": {},
          "execution_count": 46
        }
      ]
    },
    {
      "cell_type": "code",
      "source": [
        "confusion_matrix(y_pred_gbc, y_test)"
      ],
      "metadata": {
        "colab": {
          "base_uri": "https://localhost:8080/"
        },
        "id": "yT-rmB3PawLx",
        "outputId": "02a01b73-689e-4317-a996-5013fe272b65"
      },
      "execution_count": 57,
      "outputs": [
        {
          "output_type": "execute_result",
          "data": {
            "text/plain": [
              "array([[26261,   907],\n",
              "       [  236,  1257]])"
            ]
          },
          "metadata": {},
          "execution_count": 57
        }
      ]
    },
    {
      "cell_type": "code",
      "source": [
        "print(classification_report(y_pred_gbc, y_test))"
      ],
      "metadata": {
        "colab": {
          "base_uri": "https://localhost:8080/"
        },
        "id": "eZkI5bX_a2K4",
        "outputId": "2d1cfd39-7dd9-4ca4-eb77-e4c3efe546b7"
      },
      "execution_count": 58,
      "outputs": [
        {
          "output_type": "stream",
          "name": "stdout",
          "text": [
            "              precision    recall  f1-score   support\n",
            "\n",
            "         0.0       0.99      0.97      0.98     27168\n",
            "         1.0       0.58      0.84      0.69      1493\n",
            "\n",
            "    accuracy                           0.96     28661\n",
            "   macro avg       0.79      0.90      0.83     28661\n",
            "weighted avg       0.97      0.96      0.96     28661\n",
            "\n"
          ]
        }
      ]
    },
    {
      "cell_type": "markdown",
      "source": [
        "###SVC"
      ],
      "metadata": {
        "id": "MGS671TAbacK"
      }
    },
    {
      "cell_type": "code",
      "source": [
        "from sklearn.svm import SVC\n",
        "svm = SVC()\n",
        "svm.fit(X_train,y_train)\n",
        "y_pred_svm = svm.predict(X_test)\n",
        "accuracy_score(y_pred_svm, y_test)*100"
      ],
      "metadata": {
        "colab": {
          "base_uri": "https://localhost:8080/"
        },
        "id": "0XOuDfCfShhT",
        "outputId": "60978274-476a-4070-d590-82a4b1afe164"
      },
      "execution_count": 48,
      "outputs": [
        {
          "output_type": "execute_result",
          "data": {
            "text/plain": [
              "96.01200237256202"
            ]
          },
          "metadata": {},
          "execution_count": 48
        }
      ]
    },
    {
      "cell_type": "code",
      "source": [
        "confusion_matrix(y_pred_svm, y_test)"
      ],
      "metadata": {
        "colab": {
          "base_uri": "https://localhost:8080/"
        },
        "id": "-QtaaEksawsC",
        "outputId": "546334d8-7bba-4800-832b-520ea789e630"
      },
      "execution_count": 59,
      "outputs": [
        {
          "output_type": "execute_result",
          "data": {
            "text/plain": [
              "array([[26261,   907],\n",
              "       [  236,  1257]])"
            ]
          },
          "metadata": {},
          "execution_count": 59
        }
      ]
    },
    {
      "cell_type": "code",
      "source": [
        "print(classification_report(y_pred_svm, y_test))"
      ],
      "metadata": {
        "colab": {
          "base_uri": "https://localhost:8080/"
        },
        "id": "soI3-qAda2sJ",
        "outputId": "ec780267-d44d-4b45-c94b-e5a8175a7794"
      },
      "execution_count": 60,
      "outputs": [
        {
          "output_type": "stream",
          "name": "stdout",
          "text": [
            "              precision    recall  f1-score   support\n",
            "\n",
            "         0.0       0.99      0.97      0.98     27168\n",
            "         1.0       0.58      0.84      0.69      1493\n",
            "\n",
            "    accuracy                           0.96     28661\n",
            "   macro avg       0.79      0.90      0.83     28661\n",
            "weighted avg       0.97      0.96      0.96     28661\n",
            "\n"
          ]
        }
      ]
    }
  ]
}